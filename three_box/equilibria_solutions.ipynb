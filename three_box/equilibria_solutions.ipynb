{
 "cells": [
  {
   "cell_type": "markdown",
   "metadata": {},
   "source": [
    "### Trying to Analyse Equilibria"
   ]
  },
  {
   "cell_type": "code",
   "execution_count": null,
   "metadata": {},
   "outputs": [],
   "source": [
    "import sympy as sp\n",
    "from IPython.display import display\n",
    "import numpy as np\n",
    "# Define the symbolic variables and parameters\n",
    "x, y, lambda_ = sp.symbols('x y lambda', real=True)\n",
    "\n",
    "# Define the system of equations\n",
    "f1 = lambda_ - 2*x*sp.Abs(1 - x) - y*sp.Abs(1 - y)\n",
    "f2 = lambda_ - 2*y*sp.Abs(1 - y) - x*sp.Abs(1 - x)\n",
    "\n",
    "# Define the vector of state variables\n",
    "X = sp.Matrix([x, y])\n",
    "\n",
    "# Define the vector-valued function representing the system\n",
    "F = sp.Matrix([f1, f2])\n",
    "\n",
    "# Calculate the Jacobian matrix\n",
    "Jacobian = F.jacobian(X)\n"
   ]
  },
  {
   "cell_type": "markdown",
   "metadata": {},
   "source": [
    "Equilibrium points for $x$ and $y$:\n",
    "\n",
    "- $\\frac{1}{2} + \\frac{\\sqrt{9-12 \\lambda}}{6}$\n",
    "- $\\frac{1}{2} - \\frac{\\sqrt{9 - 12 \\lambda}}{6}$\n",
    "- $\\frac{1}{2} + \\frac{\\sqrt{9 + 12 \\lambda}}{6}$\n",
    "- $\\frac{1}{2} - \\frac{\\sqrt{9 + 12 \\lambda}}{6}$"
   ]
  },
  {
   "cell_type": "code",
   "execution_count": null,
   "metadata": {},
   "outputs": [],
   "source": [
    "import sympy as sp\n",
    "import numpy as np\n",
    "\n",
    "# Define the symbolic variables and parameters\n",
    "x, y  = sp.symbols('x y')\n",
    "lambda_ = sp.symbols('lambda', real=True)\n",
    "\n",
    "# Define the system of equations\n",
    "f1 = lambda_ - 2*x*sp.Abs(1 - x) - y*sp.Abs(1 - y)\n",
    "f2 = lambda_ - 2*y*sp.Abs(1 - y) - x*sp.Abs(1 - x)\n",
    "\n",
    "# Define the vector of state variables\n",
    "X = sp.Matrix([x, y])\n",
    "\n",
    "# Define the vector-valued function representing the system\n",
    "F = sp.Matrix([f1, f2])\n",
    "\n",
    "# Calculate the Jacobian matrix\n",
    "Jacobian = F.jacobian(X)\n",
    "\n",
    "# Define the equilibrium point\n",
    "equilibrium_point = {\n",
    "    x: 0.5 + sp.sqrt(9 + 12*lambda_)/6,\n",
    "    y: 0.5 + sp.sqrt(9 - 12*lambda_)/6\n",
    "}\n",
    "\n",
    "# Substitute the equilibrium point into the Jacobian matrix\n",
    "Jacobian_at_equilibrium = Jacobian.subs(equilibrium_point)\n",
    "\n",
    "# Display the Jacobian at the equilibrium point\n",
    "print(\"Jacobian at the equilibrium point:\")\n",
    "display(Jacobian_at_equilibrium)\n",
    "\n",
    "# Calculate and display the eigenvalues\n",
    "eigenvalues = Jacobian_at_equilibrium.eigenvals()\n",
    "print(\"Eigenvalues at the equilibrium point:\")\n",
    "display(eigenvalues)\n"
   ]
  },
  {
   "cell_type": "code",
   "execution_count": null,
   "metadata": {},
   "outputs": [],
   "source": []
  }
 ],
 "metadata": {
  "kernelspec": {
   "display_name": "bachelorthesis",
   "language": "python",
   "name": "python3"
  },
  "language_info": {
   "codemirror_mode": {
    "name": "ipython",
    "version": 3
   },
   "file_extension": ".py",
   "mimetype": "text/x-python",
   "name": "python",
   "nbconvert_exporter": "python",
   "pygments_lexer": "ipython3",
   "version": "3.9.18"
  }
 },
 "nbformat": 4,
 "nbformat_minor": 2
}
