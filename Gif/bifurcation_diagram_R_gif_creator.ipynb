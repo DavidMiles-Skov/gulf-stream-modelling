{
 "cells": [
  {
   "cell_type": "code",
   "execution_count": 1,
   "metadata": {},
   "outputs": [],
   "source": [
    "import numpy as np\n",
    "import matplotlib.pyplot as plt\n",
    "import sympy as sp\n",
    "from sympy import *\n",
    "import os\n",
    "import moviepy.editor as mp\n",
    "import imageio\n",
    "import shutil"
   ]
  },
  {
   "cell_type": "markdown",
   "metadata": {},
   "source": [
    "# This creates a bifurcation diagram \n",
    "\n",
    "The equations are defined as:"
   ]
  },
  {
   "cell_type": "code",
   "execution_count": 10,
   "metadata": {},
   "outputs": [],
   "source": [
    "values = 100\n",
    "\n",
    "lambda_vals = np.linspace(0.00001, 0.5, values)\n",
    "R_vals = np.linspace(1, 5, values)\n",
    "R = 2\n",
    "LAMBDA = 1/5\n",
    "DELTA = 1/6\n",
    "BIF_VALUE_LAMBDA = 'lambda'\n",
    "BIF_VALUE_R = 'R'\n",
    "\n",
    "save_fig = True\n",
    "\n",
    "def eq_1_solver(lambda_value=LAMBDA, lambda_bool=False, R_value=R, R_bool=False): #f < 0\n",
    "    \n",
    "    f = sp.symbols('f')\n",
    "    if lambda_bool:\n",
    "        equation = sp.Eq(lambda_value * f, R*DELTA/(DELTA-f) - 1/(1-f))\n",
    "    if R_bool:\n",
    "        equation = sp.Eq(LAMBDA * f, R_value*DELTA/(DELTA-f) - 1/(1-f))\n",
    "    solutions = sp.solve(equation, f)\n",
    "    real_solutions = [sp.re(sol) for sol in solutions]\n",
    "    return real_solutions[0], real_solutions[1]\n",
    "\n",
    "def eq_2_solver(lambda_value=LAMBDA, lambda_bool=False, R_value=R, R_bool=False): #f > 0\n",
    "    f = sp.symbols('f')\n",
    "    if lambda_bool:\n",
    "        equation = sp.Eq(lambda_value * f, R*DELTA/(DELTA+f) - 1/(1+f))\n",
    "    if R_bool:\n",
    "        equation = sp.Eq(LAMBDA * f, R_value*DELTA/(DELTA+f) - 1/(1+f))\n",
    "    solutions = sp.solve(equation, f)\n",
    "    real_solutions = [sp.re(sol) for sol in solutions]\n",
    "    return real_solutions[0]"
   ]
  },
  {
   "cell_type": "code",
   "execution_count": 13,
   "metadata": {},
   "outputs": [
    {
     "name": "stdout",
     "output_type": "stream",
     "text": [
      "-1.06790979891806\n",
      "-0.307026886053647\n"
     ]
    }
   ],
   "source": [
    "f1, f2 = eq_1_solver(R_bool = True)\n",
    "print(f1)\n",
    "print(f2)"
   ]
  },
  {
   "cell_type": "code",
   "execution_count": 11,
   "metadata": {},
   "outputs": [],
   "source": [
    "stable_bif_R = []\n",
    "saddle_bif_R = []\n",
    "spiral_bif_R = []\n",
    "\n",
    "for i in R_vals:\n",
    "    stable_bif_R.append(eq_1_solver(R_value=i, R_bool=True)[0])\n",
    "    saddle_bif_R.append(eq_1_solver(R_value=i, R_bool=True)[1])\n",
    "    spiral_bif_R.append(eq_2_solver(R_value=i, R_bool=True))\n"
   ]
  },
  {
   "cell_type": "code",
   "execution_count": 12,
   "metadata": {},
   "outputs": [
    {
     "name": "stdout",
     "output_type": "stream",
     "text": [
      "[-1.50000000000000, -1.48643869903795, -1.47268506710268, -1.45872994670416, -1.44456341674700, -1.43017469985254, -1.41555205467003, -1.40068265009155, -1.38555241750558, -1.37014587620920, -1.35444592576194, -1.33843359728675, -1.32208775333228, -1.30538472265293, -1.28829785176746, -1.27079694885764, -1.25284758660295, -1.23441021755536, -1.21543903646162, -1.19588049494769, -1.17567132910873, -1.15473588915514, -1.13298244304641, -1.11029792649780, -1.08654025746415, -1.06152667226227, -1.03501523205553, -1.00667386322435, -0.976024800927258, -0.942335256883142, -0.904372487094531, -0.859734429332360, -0.802223961312084, -0.666666666666667, 2.49496439077359, 2.48993065468374, 2.48489888562016, 2.47986917840527, 2.47484162879137, 2.46981633345749, 2.46479339000574, 2.45977289695735, 2.45475495374829, 2.44973966072444, 2.44472711913637, 2.43971743113366, 2.43471069975881, 2.42970702894070, 2.42470652348758, 2.41970928907961, 2.41471543226092, 2.40972506043123, 2.40473828183695, 2.39975520556179, 2.39477594151693, 2.38980060043062, 2.38482929383731, 2.37986213406627, 2.37489923422968, 2.36994070821021, 2.36498667064806, 2.36003723692747, 2.35509252316272, 2.35015264618354, 2.34521772352004, 2.34028787338705, 2.33536321466789, 2.33044386689771, 2.32552995024611, 2.32062158549933, 2.31571889404187, 2.31082199783747, 2.30593101940969, 2.30104608182177, 2.29616730865605, 2.29129482399285, 2.28642875238868, 2.28156921885405, 2.27671634883068, 2.27187026816812, 2.26703110309996, 2.26219898021937, 2.25737402645428, 2.25255636904185, 2.24774613550267, 2.24294345361421, 2.23814845138401, 2.23336125702219, 2.22858199891366, 2.22381080558972, 2.21904780569934, 2.21429312797989, 2.20954690122751, 2.20480925426706, 2.20008031592165, 2.19536021498179, 2.19064908017420, 2.18594704013018, 2.18125422335377, 2.17657075818946]\n"
     ]
    }
   ],
   "source": [
    "print(stable_bif_R)"
   ]
  },
  {
   "cell_type": "code",
   "execution_count": 4,
   "metadata": {},
   "outputs": [],
   "source": [
    "def find_intersection_saddle_and_stable(saddle_bif, stable_bif):\n",
    "    intersection = []\n",
    "    intersection_i = []\n",
    "    for i in range(len(stable_bif)):\n",
    "        if abs(saddle_bif[i]-stable_bif[i]) < 0.5:\n",
    "            intersection.append(stable_bif[i])\n",
    "            intersection_i.append(i)\n",
    "    return intersection,intersection_i\n",
    "\n",
    "intersection_R, intersection_R_i = find_intersection_saddle_and_stable(saddle_bif_R, stable_bif_R)\n"
   ]
  },
  {
   "cell_type": "code",
   "execution_count": 37,
   "metadata": {},
   "outputs": [],
   "source": [
    "def make_bifurcation_diagram(values, stable_bif, saddle_bif, spiral_bif, intersection_i,intersection,lambda_,k):\n",
    "    i = len(intersection_i)-1\n",
    "    j = 1\n",
    "    # find the index that is the closest to the value of 7/3 in values\n",
    "    val_stop = min(range(len(values)), key=lambda i: abs(values[i]-7/3))\n",
    "\n",
    "    print(f'Stable node: {stable_bif[0]}')\n",
    "    print(f'Saddle: {spiral_bif}')\n",
    "\n",
    "    plt.plot(values[0:val_stop+1], stable_bif[0:val_stop+1], label='Stable node')\n",
    "    plt.plot(values[0:val_stop], saddle_bif[0:val_stop],label='Saddle', linestyle='dashed')\n",
    "    plt.plot(values, spiral_bif, label='Stable Spiral')\n",
    "\n",
    "    #if k < intersection_i[i]+j:\n",
    "    #    plt.scatter(values[k], stable_bif[k], color='red', marker='o', label='First Saddle')\n",
    "    #else:\n",
    "    #    plt.scatter(values[k], spiral_bif[k], color='red', marker='o', label='First Stable Node')\n",
    "\n",
    "    plt.ylabel(r'equilibrium values of $f$')\n",
    "    plt.ylim(-4, 1)\n",
    "    if lambda_:\n",
    "        bif_val = r'$\\lambda$'\n",
    "        BIF_VALUE = 'lambda'\n",
    "        bif_val_int = 0.333800508\n",
    "        plt.xlabel(f'flow resistance {bif_val}')\n",
    "        plt.xlim(0, 0.5)\n",
    "        plt.xticks([0, 0.1, 0.2, 0.3, 0.338, 0.4, 0.5], [0.0, 0.1, 0.2, 0.3, r'$\\lambda_b$', 0.4, 0.5])\n",
    "    else:\n",
    "        bif_val = r'$R$'\n",
    "        BIF_VALUE = 'R'\n",
    "        bif_val_int = 7/3\n",
    "        plt.xlabel(f'Ratio of expansion coefficients {bif_val}')\n",
    "        plt.xlim(1, 5)\n",
    "        plt.xticks([1, 2, 3, bif_val_int, 4, 5], [1, 2, 3, r'$R_0$', 4, 5])\n",
    "\n",
    "\n",
    "    x_start = bif_val_int\n",
    "    y_start = stable_bif[-1]\n",
    "    x_end = bif_val_int\n",
    "    y_end = spiral_bif[-1]\n",
    "\n",
    "   # arrow_props = dict(arrowstyle='->', color='k', lw=1, ls='dashed')\n",
    "    #plt.annotate('', xy=(x_end, y_end+0.07), xytext=(x_start, intersection[-1]),\n",
    "    #         arrowprops=arrow_props, fontsize=9, color='k')\n",
    "\n",
    "    #plt.legend()\n",
    "    folder_name = 'Plots for bifurcation diagram R'\n",
    "    folder_path = os.path.join(os.getcwd(), folder_name)\n",
    "    \n",
    "    # Ensure the folder exists, create it if it doesn't\n",
    "    if not os.path.exists(folder_path):\n",
    "        os.makedirs(folder_path)\n",
    "\n",
    "    file_name = f'bifurcation_diagram_{BIF_VALUE}_{k}.png'\n",
    "    desktop_path = os.path.join(folder_path, file_name)\n",
    "\n",
    "    if save_fig:\n",
    "        plt.savefig(desktop_path, dpi=600)\n",
    "\n"
   ]
  },
  {
   "cell_type": "code",
   "execution_count": 38,
   "metadata": {},
   "outputs": [
    {
     "name": "stdout",
     "output_type": "stream",
     "text": [
      "Stable node: -1.50000000000000\n",
      "Saddle: [0.0, 0.00781417426866574, 0.0157168545176803, 0.0237082585032653, 0.0317885463213757, 0.0399578179003021, 0.0482161105507651, 0.0565633965887621, 0.0649995810470605, 0.0735244994916527, 0.0821379159598773, 0.0908395210371143, 0.0996289300890266, 0.108505681666225, 0.117469236097955, 0.126518974290931, 0.135654196748805, 0.144874122826873, 0.154177890235564, 0.163564554805021, 0.173033090521573, 0.182582389845308, 0.192211264316054, 0.201918445453200, 0.211702585952541, 0.221562261181216, 0.231495970969362, 0.241502141694823, 0.251579128654763, 0.261725218715659, 0.271938633230773, 0.282217531211890, 0.292560012739957, 0.302964122597159, 0.313427854101157, 0.323949153120478, 0.334525922248663, 0.345156025113500, 0.355837290796804, 0.366567518339486, 0.377344481306291, 0.388165932384450, 0.399029607990706, 0.409933232861563, 0.420874524602337, 0.431851198171496, 0.442860970277954, 0.453901563670314, 0.464970711298555, 0.476066160330365, 0.487185676006030, 0.498327045317694, 0.509488080500659, 0.520666622326406, 0.531860543188854, 0.543067749977380, 0.554286186731909, 0.565513837077229, 0.576748726435376, 0.587988924016530, 0.599232544590389, 0.610477750041337, 0.621722750711980, 0.632965806540728, 0.644205228000092, 0.655439376843186, 0.666666666666667, 0.677885563298869, 0.689094585022440, 0.700292302641017, 0.711477339399811, 0.722648370770035, 0.733804124107170, 0.744943378193042, 0.756064962671515, 0.767167757387454, 0.778250691638369, 0.789312743347839, 0.800352938169490, 0.811370348529961, 0.822364092618861, 0.833333333333333, 0.844277277184418, 0.855195173171974, 0.866086311634462, 0.876950023079511, 0.887785677000677, 0.898592680685478, 0.909370478019302, 0.920118548289421, 0.930836404992948, 0.941523594652230, 0.952179695640783, 0.962804317022557, 0.973397097407031, 0.983957703822296, 0.994485830608038, 1.00498119833006, 1.01544355271775, 1.02587266362568]\n"
     ]
    },
    {
     "data": {
      "image/png": "[encoded data removed]",
      "text/plain": [
       "<Figure size 432x288 with 1 Axes>"
      ]
     },
     "metadata": {
      "needs_background": "light"
     },
     "output_type": "display_data"
    }
   ],
   "source": [
    "make_bifurcation_diagram(R_vals, \n",
    "                            stable_bif_R, \n",
    "                            saddle_bif_R, \n",
    "                            spiral_bif_R, \n",
    "                            intersection_R_i,\n",
    "                            intersection_R, \n",
    "                            False,\n",
    "                            i)"
   ]
  }
 ],
 "metadata": {
  "kernelspec": {
   "display_name": "base",
   "language": "python",
   "name": "python3"
  },
  "language_info": {
   "codemirror_mode": {
    "name": "ipython",
    "version": 3
   },
   "file_extension": ".py",
   "mimetype": "text/x-python",
   "name": "python",
   "nbconvert_exporter": "python",
   "pygments_lexer": "ipython3",
   "version": "3.8.3"
  }
 },
 "nbformat": 4,
 "nbformat_minor": 2
}
