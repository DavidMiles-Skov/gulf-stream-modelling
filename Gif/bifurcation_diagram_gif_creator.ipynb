{
 "cells": [
  {
   "cell_type": "code",
   "execution_count": 26,
   "metadata": {},
   "outputs": [],
   "source": [
    "import numpy as np\n",
    "import matplotlib.pyplot as plt\n",
    "import sympy as sp\n",
    "from sympy import *\n",
    "import os\n",
    "import moviepy.editor as mp\n",
    "import imageio\n",
    "import shutil"
   ]
  },
  {
   "cell_type": "markdown",
   "metadata": {},
   "source": [
    "# This creates a bifurcation diagram \n",
    "\n",
    "The equations are defined as:"
   ]
  },
  {
   "cell_type": "code",
   "execution_count": 27,
   "metadata": {},
   "outputs": [],
   "source": [
    "values = 100\n",
    "\n",
    "lambda_vals = np.linspace(0.00001, 0.5, values)\n",
    "R_vals = np.linspace(0.00001, 5, values)\n",
    "R = 2\n",
    "LAMBDA = 1/5\n",
    "DELTA = 1/6\n",
    "BIF_VALUE_LAMBDA = 'lambda'\n",
    "BIF_VALUE_R = 'R'\n",
    "\n",
    "save_fig = True\n",
    "\n",
    "def eq_1_solver(lambda_value=LAMBDA, lambda_bool=False, R_value=R, R_bool=False): #f < 0\n",
    "    \n",
    "    f = sp.symbols('f')\n",
    "    if lambda_bool:\n",
    "        equation = sp.Eq(lambda_value * f, R*DELTA/(DELTA-f) - 1/(1-f))\n",
    "    if R_bool:\n",
    "        equation = sp.Eq(LAMBDA * f, R_value*DELTA/(DELTA-f) - 1/(1-f))\n",
    "    solutions = sp.solve(equation, f)\n",
    "    real_solutions = [sp.re(sol) for sol in solutions]\n",
    "    return real_solutions[0], real_solutions[1]\n",
    "\n",
    "def eq_2_solver(lambda_value=LAMBDA, lambda_bool=False, R_value=R, R_bool=False): #f > 0\n",
    "    f = sp.symbols('f')\n",
    "    if lambda_bool:\n",
    "        equation = sp.Eq(lambda_value * f, R*DELTA/(DELTA+f) - 1/(1+f))\n",
    "    if R_bool:\n",
    "        equation = sp.Eq(LAMBDA * f, R_value*DELTA/(DELTA+f) - 1/(1+f))\n",
    "    solutions = sp.solve(equation, f)\n",
    "    real_solutions = [sp.re(sol) for sol in solutions]\n",
    "    return real_solutions[0]"
   ]
  },
  {
   "cell_type": "code",
   "execution_count": 28,
   "metadata": {},
   "outputs": [],
   "source": [
    "stable_bif_lambda = []\n",
    "saddle_bif_lambda = []\n",
    "spiral_bif_lambda = []\n",
    "\n",
    "for i in lambda_vals:\n",
    "    stable_bif_lambda.append(eq_1_solver(lambda_value=i, lambda_bool=True)[0])\n",
    "    saddle_bif_lambda.append(eq_1_solver(lambda_value=i, lambda_bool=True)[1])\n",
    "    spiral_bif_lambda.append(eq_2_solver(lambda_value=i, lambda_bool=True))\n"
   ]
  },
  {
   "cell_type": "code",
   "execution_count": 29,
   "metadata": {},
   "outputs": [],
   "source": [
    "def find_intersection_saddle_and_stable(saddle_bif, stable_bif):\n",
    "    intersection = []\n",
    "    intersection_i = []\n",
    "    for i in range(len(stable_bif)):\n",
    "        if abs(saddle_bif[i]-stable_bif[i]) < 0.5:\n",
    "            intersection.append(stable_bif[i])\n",
    "            intersection_i.append(i)\n",
    "    return intersection,intersection_i\n",
    "\n",
    "intersection_lambda, intersection_lambda_i = find_intersection_saddle_and_stable(saddle_bif_lambda, stable_bif_lambda)\n"
   ]
  },
  {
   "cell_type": "code",
   "execution_count": 30,
   "metadata": {},
   "outputs": [],
   "source": [
    "def make_bifurcation_diagram(values, stable_bif, saddle_bif, spiral_bif, intersection_i,intersection,k):\n",
    "    i = len(intersection_i)-1\n",
    "    j = 1\n",
    "    plt.plot(values[0:intersection_i[i]+j], stable_bif[0:intersection_i[i]+j], label='Stable node')\n",
    "    plt.plot(values[0:intersection_i[i]+j], saddle_bif[0:intersection_i[i]+j],label='Saddle', linestyle='dashed')\n",
    "    plt.plot(values, spiral_bif, label='Stable Spiral')\n",
    "\n",
    "    if k < intersection_i[i]+j:\n",
    "        plt.scatter(values[k], stable_bif[k], color='red', marker='o', label='First Saddle')\n",
    "    else:\n",
    "        plt.scatter(values[k], spiral_bif[k], color='red', marker='o', label='First Stable Node')\n",
    "\n",
    "    plt.ylabel(r'equilibrium values of $f$')\n",
    "    plt.ylim(-4, 1)\n",
    "\n",
    "    bif_val = r'$\\lambda$'\n",
    "    BIF_VALUE = 'lambda'\n",
    "    bif_val_int = 0.333800508\n",
    "    plt.xlabel(f'{bif_val}')\n",
    "    plt.xlim(0, 0.5)\n",
    "    plt.xticks([0, 0.1, 0.2, 0.3, bif_val_int, 0.4, 0.5], [0.0, 0.1, 0.2, 0.3, r'$\\lambda_b$', 0.4, 0.5])\n",
    "\n",
    "    x_start = bif_val_int\n",
    "    y_start = stable_bif[-1]\n",
    "    x_end = bif_val_int\n",
    "    y_end = spiral_bif[-1]\n",
    "\n",
    "    arrow_props = dict(arrowstyle='->', color='k', lw=1, ls='dashed')\n",
    "    plt.annotate('', xy=(x_end, y_end+0.07), xytext=(x_start, intersection[-1]),\n",
    "             arrowprops=arrow_props, fontsize=9, color='k')\n",
    "\n",
    "    #plt.legend()\n",
    "    folder_name = 'Plots for bifurcation diagram'\n",
    "    folder_path = os.path.join(os.getcwd(), folder_name)\n",
    "    \n",
    "    # Ensure the folder exists, create it if it doesn't\n",
    "    if not os.path.exists(folder_path):\n",
    "        os.makedirs(folder_path)\n",
    "\n",
    "    file_name = f'bifurcation_diagram_{BIF_VALUE}_{k}.png'\n",
    "    desktop_path = os.path.join(folder_path, file_name)\n",
    "\n",
    "    if save_fig:\n",
    "        plt.savefig(desktop_path, dpi=600)\n",
    "\n"
   ]
  },
  {
   "cell_type": "code",
   "execution_count": 31,
   "metadata": {},
   "outputs": [
    {
     "data": {
      "text/plain": [
       "<Figure size 432x288 with 0 Axes>"
      ]
     },
     "metadata": {},
     "output_type": "display_data"
    }
   ],
   "source": [
    "for i in range(10, len(lambda_vals)):\n",
    "    make_bifurcation_diagram(lambda_vals, \n",
    "                            stable_bif_lambda, \n",
    "                            saddle_bif_lambda, \n",
    "                            spiral_bif_lambda, \n",
    "                            intersection_lambda_i,\n",
    "                            intersection_lambda, \n",
    "                            i)\n",
    "    plt.clf()\n"
   ]
  },
  {
   "cell_type": "markdown",
   "metadata": {},
   "source": [
    "# Gif creator"
   ]
  },
  {
   "cell_type": "code",
   "execution_count": 32,
   "metadata": {},
   "outputs": [
    {
     "name": "stdout",
     "output_type": "stream",
     "text": [
      "Moviepy - Building video Movies for bifurcation diagram/bifurcation_diagram.mp4.\n",
      "Moviepy - Writing video Movies for bifurcation diagram/bifurcation_diagram.mp4\n",
      "\n"
     ]
    },
    {
     "name": "stderr",
     "output_type": "stream",
     "text": [
      "                                                            \r"
     ]
    },
    {
     "name": "stdout",
     "output_type": "stream",
     "text": [
      "Moviepy - Done !\n",
      "Moviepy - video ready Movies for bifurcation diagram/bifurcation_diagram.mp4\n"
     ]
    }
   ],
   "source": [
    "def create_gif(image_folder, output_file):\n",
    "    images = []\n",
    "    filenames = []\n",
    "    for filename in os.listdir(image_folder):\n",
    "        filenames.append(filename)\n",
    "    filenames = sorted(filenames)\n",
    "\n",
    "    for filename in filenames:\n",
    "        try:\n",
    "            images.append(imageio.imread(os.path.join(image_folder, filename)))\n",
    "        except:\n",
    "            print(f'Error in {filename}')\n",
    "            pass\n",
    "    imageio.mimsave(output_file, images, duration=0.15)\n",
    "\n",
    "gif_folder_name = 'Gifs for bifurcation diagram'\n",
    "movie_folder_name = 'Movies for bifurcation diagram'\n",
    "\n",
    "if os.path.exists(gif_folder_name):\n",
    "    shutil.rmtree(gif_folder_name)\n",
    "    os.mkdir(gif_folder_name)\n",
    "else:\n",
    "    os.mkdir(gif_folder_name)\n",
    "\n",
    "if os.path.exists(movie_folder_name):\n",
    "    shutil.rmtree(movie_folder_name)\n",
    "    os.mkdir(gif_folder_name)\n",
    "else:\n",
    "    os.mkdir(movie_folder_name)\n",
    "\n",
    "create_gif('Plots for bifurcation diagram', gif_folder_name + '/bifurcation_diagram.gif')\n",
    "\n",
    "clip = mp.VideoFileClip(gif_folder_name+\"/bifurcation_diagram.gif\")\n",
    "\n",
    "clip.write_videofile(movie_folder_name+\"/bifurcation_diagram.mp4\")\n"
   ]
  }
 ],
 "metadata": {
  "kernelspec": {
   "display_name": "base",
   "language": "python",
   "name": "python3"
  },
  "language_info": {
   "codemirror_mode": {
    "name": "ipython",
    "version": 3
   },
   "file_extension": ".py",
   "mimetype": "text/x-python",
   "name": "python",
   "nbconvert_exporter": "python",
   "pygments_lexer": "ipython3",
   "version": "3.8.3"
  }
 },
 "nbformat": 4,
 "nbformat_minor": 2
}
