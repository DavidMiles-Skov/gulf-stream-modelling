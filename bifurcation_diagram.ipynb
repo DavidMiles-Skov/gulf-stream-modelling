{
 "cells": [
  {
   "cell_type": "code",
   "execution_count": 112,
   "metadata": {},
   "outputs": [],
   "source": [
    "import numpy as np\n",
    "import matplotlib.pyplot as plt\n",
    "import sympy as sp\n",
    "from sympy import *"
   ]
  },
  {
   "cell_type": "markdown",
   "metadata": {},
   "source": [
    "# Bifurcation analysis\n",
    "First calculating fixed points for the system"
   ]
  },
  {
   "cell_type": "code",
   "execution_count": 48,
   "metadata": {},
   "outputs": [
    {
     "name": "stdout",
     "output_type": "stream",
     "text": [
      "[0.001, 0.002, 0.003, 0.004, 0.005, 0.006, 0.007, 0.008, 0.009, 0.01, 0.011, 0.012, 0.013, 0.014, 0.015, 0.016, 0.017, 0.018, 0.019, 0.02, 0.021, 0.022, 0.023, 0.024, 0.025, 0.026, 0.027, 0.028, 0.029, 0.03, 0.031, 0.032, 0.033, 0.034, 0.035, 0.036, 0.037, 0.038, 0.039, 0.04, 0.041, 0.042, 0.043, 0.044, 0.045, 0.046, 0.047, 0.048, 0.049, 0.05, 0.051, 0.052, 0.053, 0.054, 0.055, 0.056, 0.057, 0.058, 0.059, 0.06, 0.061, 0.062, 0.063, 0.064, 0.065, 0.066, 0.067, 0.068, 0.069, 0.07, 0.071, 0.072, 0.073, 0.074, 0.075, 0.076, 0.077, 0.078, 0.079, 0.08, 0.081, 0.082, 0.083, 0.084, 0.085, 0.086, 0.087, 0.088, 0.089, 0.09, 0.091, 0.092, 0.093, 0.094, 0.095, 0.096, 0.097, 0.098, 0.099, 0.1, 0.101, 0.102, 0.103, 0.104, 0.105, 0.106, 0.107, 0.108, 0.109, 0.11, 0.111, 0.112, 0.113, 0.114, 0.115, 0.116, 0.117, 0.118, 0.119, 0.12, 0.121, 0.122, 0.123, 0.124, 0.125, 0.126, 0.127, 0.128, 0.129, 0.13, 0.131, 0.132, 0.133, 0.134, 0.135, 0.136, 0.137, 0.138, 0.139, 0.14, 0.141, 0.142, 0.143, 0.144, 0.145, 0.146, 0.147, 0.148, 0.149, 0.15, 0.151, 0.152, 0.153, 0.154, 0.155, 0.156, 0.157, 0.158, 0.159, 0.16, 0.161, 0.162, 0.163, 0.164, 0.165, 0.166, 0.167, 0.168, 0.169, 0.17, 0.171, 0.172, 0.173, 0.174, 0.175, 0.176, 0.177, 0.178, 0.179, 0.18, 0.181, 0.182, 0.183, 0.184, 0.185, 0.186, 0.187, 0.188, 0.189, 0.19, 0.191, 0.192, 0.193, 0.194, 0.195, 0.196, 0.197, 0.198, 0.199, 0.2, 0.201, 0.202, 0.203, 0.204, 0.205, 0.206, 0.207, 0.208, 0.209, 0.21, 0.211, 0.212, 0.213, 0.214, 0.215, 0.216, 0.217, 0.218, 0.219, 0.22, 0.221, 0.222, 0.223, 0.224, 0.225, 0.226, 0.227, 0.228, 0.229, 0.23, 0.231, 0.232, 0.233, 0.234, 0.235, 0.236, 0.237, 0.238, 0.239, 0.24, 0.241, 0.242, 0.243, 0.244, 0.245, 0.246, 0.247, 0.248, 0.249, 0.25, 0.251, 0.252, 0.253, 0.254, 0.255, 0.256, 0.257, 0.258, 0.259, 0.26, 0.261, 0.262, 0.263, 0.264, 0.265, 0.266, 0.267, 0.268, 0.269, 0.27, 0.271, 0.272, 0.273, 0.274, 0.275, 0.276, 0.277, 0.278, 0.279, 0.28, 0.281, 0.282, 0.283, 0.284, 0.285, 0.286, 0.287, 0.288, 0.289, 0.29, 0.291, 0.292, 0.293, 0.294, 0.295, 0.296, 0.297, 0.298, 0.299, 0.3, 0.301, 0.302, 0.303, 0.304, 0.305, 0.306, 0.307, 0.308, 0.309, 0.31, 0.311, 0.312, 0.313, 0.314, 0.315, 0.316, 0.317, 0.318, 0.319, 0.32, 0.321, 0.322, 0.323, 0.324, 0.325, 0.326, 0.327, 0.328, 0.329, 0.33, 0.331, 0.332, 0.333, 0.334, 0.335, 0.336, 0.337, 0.338, 0.339, 0.34, 0.341, 0.342, 0.343, 0.344, 0.345, 0.346, 0.347, 0.348, 0.349, 0.35, 0.351, 0.352, 0.353, 0.354, 0.355, 0.356, 0.357, 0.358, 0.359, 0.36, 0.361, 0.362, 0.363, 0.364, 0.365, 0.366, 0.367, 0.368, 0.369, 0.37, 0.371, 0.372, 0.373, 0.374, 0.375, 0.376, 0.377, 0.378, 0.379, 0.38, 0.381, 0.382, 0.383, 0.384, 0.385, 0.386, 0.387, 0.388, 0.389, 0.39, 0.391, 0.392, 0.393, 0.394, 0.395, 0.396, 0.397, 0.398, 0.399, 0.4, 0.401, 0.402, 0.403, 0.404, 0.405, 0.406, 0.407, 0.408, 0.409, 0.41, 0.411, 0.412, 0.413, 0.414, 0.415, 0.416, 0.417, 0.418, 0.419, 0.42, 0.421, 0.422, 0.423, 0.424, 0.425, 0.426, 0.427, 0.428, 0.429, 0.43, 0.431, 0.432, 0.433, 0.434, 0.435, 0.436, 0.437, 0.438, 0.439, 0.44, 0.441, 0.442, 0.443, 0.444, 0.445, 0.446, 0.447, 0.448, 0.449, 0.45, 0.451, 0.452, 0.453, 0.454, 0.455, 0.456, 0.457, 0.458, 0.459, 0.46, 0.461, 0.462, 0.463, 0.464, 0.465, 0.466, 0.467, 0.468, 0.469, 0.47, 0.471, 0.472, 0.473, 0.474, 0.475, 0.476, 0.477, 0.478, 0.479, 0.48, 0.481, 0.482, 0.483, 0.484, 0.485, 0.486, 0.487, 0.488, 0.489, 0.49, 0.491, 0.492, 0.493, 0.494, 0.495, 0.496, 0.497, 0.498, 0.499]\n"
     ]
    }
   ],
   "source": [
    "factor = 100\n",
    "lambda_vals = [i/(10*factor) for i in range(1,5*factor)]\n",
    "R = 2\n",
    "delta = 1/6\n",
    "\n",
    "save_fig = False\n",
    "\n",
    "def eq_1_solver(lambda_value): #f < 0\n",
    "    f = sp.symbols('f')\n",
    "    equation = sp.Eq(lambda_value * f, R*delta/(delta-f) - 1/(1-f))\n",
    "    solutions = sp.solve(equation, f)\n",
    "    real_solutions = [sp.re(sol) for sol in solutions]\n",
    "    return real_solutions[0], real_solutions[1]\n",
    "\n",
    "def eq_2_solver(lambda_value): #f > 0\n",
    "    f = sp.symbols('f')\n",
    "    equation = sp.Eq(lambda_value * f, R*delta/(delta+f) - 1/(1+f))\n",
    "    solutions = sp.solve(equation, f)\n",
    "    real_solutions = [sp.re(sol) for sol in solutions]\n",
    "    return real_solutions[0]"
   ]
  },
  {
   "cell_type": "code",
   "execution_count": 123,
   "metadata": {},
   "outputs": [
    {
     "name": "stdout",
     "output_type": "stream",
     "text": [
      "-1.06790979891806\n",
      "-0.307026886053647\n"
     ]
    }
   ],
   "source": [
    "f1, f2 = eq_1_solver(1/5)\n",
    "print(f1)\n",
    "print(f2)"
   ]
  },
  {
   "cell_type": "code",
   "execution_count": 49,
   "metadata": {},
   "outputs": [],
   "source": [
    "stable_bif = []\n",
    "saddle_bif = []\n",
    "spiral_bif = []\n",
    "\n",
    "for i in lambda_vals:\n",
    "    stable_bif.append(eq_1_solver(i)[0])\n",
    "    saddle_bif.append(eq_1_solver(i)[1])\n",
    "    spiral_bif.append(eq_2_solver(i))\n"
   ]
  },
  {
   "cell_type": "code",
   "execution_count": 99,
   "metadata": {},
   "outputs": [
    {
     "name": "stdout",
     "output_type": "stream",
     "text": [
      "[160, 161, 162, 163, 164, 165, 166, 167, 168, 169, 170, 171, 172, 173, 174, 175, 176, 177, 178, 179, 180, 181, 182, 183, 184, 185, 186, 187, 188, 189, 190, 191, 192, 193, 194, 195, 196, 197, 198, 199, 200, 201, 202, 203, 204, 205, 206, 207, 208, 209, 210, 211, 212, 213, 214, 215, 216, 217, 218, 219, 220, 221, 222, 223, 224, 225, 226, 227, 228, 229, 230, 231, 232, 233, 234, 235, 236, 237, 238, 239, 240, 241, 242, 243, 244, 245, 246, 247, 248, 249, 250, 251, 252, 253, 254, 255, 256, 257, 258, 259, 260, 261, 262, 263, 264, 265, 266, 267, 268, 269, 270, 271, 272, 273, 274, 275, 276, 277, 278, 279, 280, 281, 282, 283, 284, 285, 286, 287, 288, 289, 290, 291, 292, 293, 294, 295, 296, 297, 298, 299, 300, 301, 302, 303, 304, 305, 306, 307, 308, 309, 310, 311, 312, 313, 314, 315, 316, 317, 318, 319, 320, 321, 322, 323, 324, 325, 326, 327, 328, 329, 330, 331, 332]\n",
      "332\n",
      "[-1.29081324268599, -1.28420972264907, -1.27766236419985, -1.27117026421449, -1.26473253809113, -1.25834831923325, -1.25201675854959, -1.24573702397025, -1.23950829997801, -1.23332978715456, -1.22720070174087, -1.22112027521121, -1.21508775386036, -1.20910239840336, -1.20316348358748, -1.19727029781578, -1.19142214278194, -1.18561833311592, -1.17985819603995, -1.17414107103451, -1.16846630951400, -1.16283327451160, -1.15724134037303, -1.15168989245894, -1.14617832685545, -1.14070605009270, -1.13527247887101, -1.12987703979438, -1.12451916911102, -1.11919831246077, -1.11391392462895, -1.10866546930659, -1.10345241885662, -1.09827425408594, -1.09313046402306, -1.08802054570108, -1.08294400394582, -1.07790035116897, -1.07288910716590, -1.06790979891806, -1.06296196039976, -1.05804513238908, -1.05315886228288, -1.04830270391551, -1.04347621738125, -1.03867896886026, -1.03391053044778, -1.02917047998654, -1.02445840090220, -1.01977388204158, -1.01511651751361, -1.01048590653289, -1.00588165326552, -1.00130336667732, -0.996750660384044, -0.992223152503612, -0.987720465510138, -0.983242226089619, -0.978788064997152, -0.974357616915525, -0.969950520315036, -0.965566417314399, -0.961204953542573, -0.956865778001378, -0.952548542928740, -0.948252903662405, -0.943978518503960, -0.939725048583016, -0.935492157721363, -0.931279512296937, -0.927086781107428, -0.922913635233327, -0.918759747900249, -0.914624794340314, -0.910508451652389, -0.906410398660990, -0.902330315773595, -0.898267884836172, -0.894222788986643, -0.890194712506051, -0.886183340667152, -0.882188359580148, -0.878209456035257, -0.874246317341809, -0.870298631163524, -0.866366085349616, -0.862448367761335, -0.858545166093548, -0.854656167690917, -0.850781059358212, -0.846919527164263, -0.843071256239005, -0.839235930563057, -0.835413232749208, -0.831602843815145, -0.827804442946709, -0.824017707250898, -0.820242311497784, -0.816477927850433, -0.812724225581840, -0.808980870777811, -0.805247526024632, -0.801523850080245, -0.797809497527560, -0.794104118408388, -0.790407357836343, -0.786718855586898, -0.783038245662626, -0.779365155831420, -0.775699207135321, -0.772040013367288, -0.768387180513005, -0.764740306154495, -0.761098978831972, -0.757462777359963, -0.753831270093309, -0.750204014138144, -0.746580554502379, -0.742960423179599, -0.739343138159542, -0.735728202357484, -0.732115102453924, -0.728503307634866, -0.724892268221737, -0.721281414178542, -0.717670153482194, -0.714057870340027, -0.710443923236239, -0.706827642786443, -0.703208329376389, -0.699585250557402, -0.695957638166814, -0.692324685136711, -0.688685541948425, -0.685039312683132, -0.681385050610575, -0.677721753247790, -0.674048356807597, -0.670363729941874, -0.666666666666667, -0.662955878334265, -0.659229984490291, -0.655487502420370, -0.651726835149214, -0.647946257602556, -0.644143900576195, -0.640317732072168, -0.636465535453894, -0.632584883732155, -0.628673109110847, -0.624727266680061, -0.620744090822073, -0.616719942461396, -0.612650744696427, -0.608531903527969, -0.604358209243775, -0.600123712365874, -0.595821565662724, -0.591443820157751, -0.586981157644985, -0.582422533783153, -0.577754692323695, -0.572961488670738, -0.568022922585861, -0.562913711024840, -0.557601102193421, -0.552041371143345, -0.546173872558752, -0.539910180799135, -0.533112211556672, -0.525541524260748, -0.516712938043812, -0.505248778071397]\n"
     ]
    }
   ],
   "source": [
    "def find_intersection_saddle_and_stable():\n",
    "    intersection = []\n",
    "    intersection_i = []\n",
    "    for i in range(len(stable_bif)):\n",
    "        if abs(saddle_bif[i]-stable_bif[i]) < 1:\n",
    "            intersection.append(stable_bif[i])\n",
    "            intersection_i.append(i)\n",
    "    return intersection,intersection_i\n",
    "\n",
    "intersection, intersection_i = find_intersection_saddle_and_stable()"
   ]
  },
  {
   "cell_type": "markdown",
   "metadata": {},
   "source": [
    "# Plotting the bifurcation diagram"
   ]
  },
  {
   "cell_type": "code",
   "execution_count": 110,
   "metadata": {},
   "outputs": [
    {
     "data": {
      "image/png": "[encoded data removed]",
      "text/plain": [
       "<Figure size 432x288 with 1 Axes>"
      ]
     },
     "metadata": {
      "needs_background": "light"
     },
     "output_type": "display_data"
    }
   ],
   "source": [
    "def make_bifurcation_diagram():\n",
    "    i = len(intersection_i)-1\n",
    "    j = 1\n",
    "    plt.plot(lambda_vals[0:intersection_i[i]+j], stable_bif[0:intersection_i[i]+j], label='Stable node')\n",
    "    plt.plot(lambda_vals[0:intersection_i[i]+j], saddle_bif[0:intersection_i[i]+j], label='Saddle')\n",
    "    plt.plot(lambda_vals, spiral_bif, label='Stable Spiral')\n",
    "\n",
    "    plt.xlabel('flow resistance $\\lambda$')\n",
    "    plt.ylabel(r'equilibrium values of $f$')\n",
    "    plt.title(r'$f$-equilibrium values as a function of $\\lambda$')\n",
    "    plt.ylim(-4, 1)\n",
    "    plt.xlim(0, 0.5)\n",
    "    plt.xticks([0, 0.1, 0.2, 0.3, 0.33, 0.4, 0.5], [0.0, 0.1, 0.2, 0.3, r'$\\lambda_0$', 0.4, 0.5])\n",
    "\n",
    "    x_start = intersection_i[i]/(10*factor)\n",
    "    y_start = stable_bif[-1]\n",
    "    x_end = intersection_i[i]/(10*factor)\n",
    "    y_end = spiral_bif[-1]\n",
    "\n",
    "    arrow_props = dict(arrowstyle='->', color='k', lw=1, ls='dashed')\n",
    "    plt.annotate('', xy=(x_end, y_end+0.07), xytext=(x_start, intersection[-1]),\n",
    "             arrowprops=arrow_props, fontsize=9, color='k')\n",
    "\n",
    "    plt.legend()\n",
    "    desktop_path = '/Users/karlfindhansen/Desktop/bifurcation_diagram.png'  \n",
    "    if save_fig:\n",
    "        plt.savefig(desktop_path, dpi=300)\n",
    "    return plt.show()\n",
    "\n",
    "\n",
    "make_bifurcation_diagram()\n"
   ]
  },
  {
   "cell_type": "markdown",
   "metadata": {},
   "source": [
    "# Find bifurcation value\n",
    "Did it in maple already, but this would be nicer! It just takes a very long time to run.\n",
    "\n",
    "Maybe you can try on your stationary computer?"
   ]
  },
  {
   "cell_type": "code",
   "execution_count": 127,
   "metadata": {},
   "outputs": [],
   "source": [
    "\n",
    "delta = 1/6\n",
    "R = 2\n",
    "lambda_val, f = sp.symbols('lambda f')\n",
    "\n",
    "eq1 = sp.Eq(lambda_val * f, R * delta / (delta - f) - 1 / (1 - f))\n",
    "\n",
    "solutions = sp.solve(eq1, f)\n",
    "sol1 = solutions[0]  \n",
    "sol2 = solutions[1]  \n"
   ]
  },
  {
   "cell_type": "code",
   "execution_count": 129,
   "metadata": {},
   "outputs": [],
   "source": [
    "# Solve for lambda where sol1 = sol2\n",
    "lambda_solutions = sp.solve(sp.Eq(sol1, sol2), lambda_val)"
   ]
  },
  {
   "cell_type": "code",
   "execution_count": null,
   "metadata": {},
   "outputs": [],
   "source": [
    "# Find the real part of the first lambda solution\n",
    "real_lambda = sp.re(lambda_solutions[0])\n",
    "\n",
    "# Evaluate the result\n",
    "result = sp.N(real_lambda)  # Convert to a numeric value\n",
    "\n",
    "print(result)"
   ]
  }
 ],
 "metadata": {
  "kernelspec": {
   "display_name": "base",
   "language": "python",
   "name": "python3"
  },
  "language_info": {
   "codemirror_mode": {
    "name": "ipython",
    "version": 3
   },
   "file_extension": ".py",
   "mimetype": "text/x-python",
   "name": "python",
   "nbconvert_exporter": "python",
   "pygments_lexer": "ipython3",
   "version": "3.8.3"
  }
 },
 "nbformat": 4,
 "nbformat_minor": 2
}
