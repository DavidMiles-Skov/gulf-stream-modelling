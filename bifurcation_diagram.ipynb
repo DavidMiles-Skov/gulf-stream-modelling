{
 "cells": [
  {
   "cell_type": "code",
   "execution_count": 19,
   "metadata": {},
   "outputs": [],
   "source": [
    "import numpy as np\n",
    "import matplotlib.pyplot as plt\n",
    "import sympy as sp\n",
    "from sympy import *\n",
    "import os"
   ]
  },
  {
   "cell_type": "markdown",
   "metadata": {},
   "source": [
    "# Bifurcation analysis\n",
    "First calculating fixed points for the system"
   ]
  },
  {
   "cell_type": "code",
   "execution_count": 20,
   "metadata": {},
   "outputs": [],
   "source": [
    "lambda_vals = np.linspace(0.00001, 0.5, 500)\n",
    "R_vals = np.linspace(0.00001, 5, 500)\n",
    "R = 2\n",
    "LAMBDA = 1/5\n",
    "DELTA = 1/6\n",
    "BIF_VALUE_LAMBDA = 'lambda'\n",
    "BIF_VALUE_R = 'R'\n",
    "\n",
    "save_fig = True\n",
    "\n",
    "def eq_1_solver(lambda_value=LAMBDA, lambda_bool=False, R_value=R, R_bool=False): #f < 0\n",
    "    \n",
    "    f = sp.symbols('f')\n",
    "    if lambda_bool:\n",
    "        equation = sp.Eq(lambda_value * f, R*DELTA/(DELTA-f) - 1/(1-f))\n",
    "    if R_bool:\n",
    "        equation = sp.Eq(LAMBDA * f, R_value*DELTA/(DELTA-f) - 1/(1-f))\n",
    "    solutions = sp.solve(equation, f)\n",
    "    real_solutions = [sp.re(sol) for sol in solutions]\n",
    "    return real_solutions[0], real_solutions[1]\n",
    "\n",
    "def eq_2_solver(lambda_value=LAMBDA, lambda_bool=False, R_value=R, R_bool=False): #f > 0\n",
    "    f = sp.symbols('f')\n",
    "    if lambda_bool:\n",
    "        equation = sp.Eq(lambda_value * f, R*DELTA/(DELTA+f) - 1/(1+f))\n",
    "    if R_bool:\n",
    "        equation = sp.Eq(LAMBDA * f, R_value*DELTA/(DELTA+f) - 1/(1+f))\n",
    "    solutions = sp.solve(equation, f)\n",
    "    real_solutions = [sp.re(sol) for sol in solutions]\n",
    "    return real_solutions[0]"
   ]
  },
  {
   "cell_type": "code",
   "execution_count": 21,
   "metadata": {},
   "outputs": [
    {
     "name": "stdout",
     "output_type": "stream",
     "text": [
      "-1.06790979891806\n",
      "-0.307026886053647\n"
     ]
    }
   ],
   "source": [
    "f1, f2 = eq_1_solver(LAMBDA, True)\n",
    "print(f1)\n",
    "print(f2)"
   ]
  },
  {
   "cell_type": "code",
   "execution_count": 22,
   "metadata": {},
   "outputs": [],
   "source": [
    "stable_bif_lambda = []\n",
    "saddle_bif_lambda = []\n",
    "spiral_bif_lambda = []\n",
    "\n",
    "for i in lambda_vals:\n",
    "    stable_bif_lambda.append(eq_1_solver(lambda_value=i, lambda_bool=True)[0])\n",
    "    saddle_bif_lambda.append(eq_1_solver(lambda_value=i, lambda_bool=True)[1])\n",
    "    spiral_bif_lambda.append(eq_2_solver(lambda_value=i, lambda_bool=True))\n"
   ]
  },
  {
   "cell_type": "code",
   "execution_count": 23,
   "metadata": {},
   "outputs": [],
   "source": [
    "stable_bif_R = []\n",
    "saddle_bif_R = []\n",
    "spiral_bif_R = []\n",
    "\n",
    "for i in R_vals:\n",
    "    stable_bif_R.append(eq_1_solver(R_value=i, R_bool=True)[0])\n",
    "    saddle_bif_R.append(eq_1_solver(R_value=i, R_bool=True)[1])\n",
    "    spiral_bif_R.append(eq_2_solver(R_value=i, R_bool=True))"
   ]
  },
  {
   "cell_type": "code",
   "execution_count": 24,
   "metadata": {},
   "outputs": [],
   "source": [
    "def find_intersection_saddle_and_stable(saddle_bif, stable_bif):\n",
    "    intersection = []\n",
    "    intersection_i = []\n",
    "    for i in range(len(stable_bif)):\n",
    "        if abs(saddle_bif[i]-stable_bif[i]) < 0.5:\n",
    "            intersection.append(stable_bif[i])\n",
    "            intersection_i.append(i)\n",
    "    return intersection,intersection_i\n",
    "\n",
    "intersection_lambda, intersection_lambda_i = find_intersection_saddle_and_stable(saddle_bif_lambda, stable_bif_lambda)\n",
    "\n",
    "intersection_R, intersection_R_i = find_intersection_saddle_and_stable(saddle_bif_R, stable_bif_R)"
   ]
  },
  {
   "cell_type": "code",
   "execution_count": 25,
   "metadata": {},
   "outputs": [
    {
     "name": "stdout",
     "output_type": "stream",
     "text": [
      "[-0.921667497127061, -0.912029407827690, -0.902029503695492, -0.891621133145043, -0.880746629093255, -0.869333280020539, -0.857287181323133, -0.844483419953431, -0.830749502389109, -0.815835287055392, -0.799352921453202, -0.780639326799931, -0.758366781980904, -0.728895793874943]\n"
     ]
    }
   ],
   "source": [
    "print(intersection_R)"
   ]
  },
  {
   "cell_type": "markdown",
   "metadata": {},
   "source": [
    "# Plotting the bifurcation diagram\n",
    "I have no idea where the arrow is for the bifurcation diagram of R??"
   ]
  },
  {
   "cell_type": "code",
   "execution_count": 29,
   "metadata": {},
   "outputs": [],
   "source": [
    "def make_bifurcation_diagram(values, stable_bif, saddle_bif, spiral_bif, intersection_i,intersection, lambda_):\n",
    "    i = len(intersection_i)-1\n",
    "    j = 1\n",
    "    plt.plot(values[0:intersection_i[i]+j], stable_bif[0:intersection_i[i]+j], label='Stable node')\n",
    "    plt.plot(values[0:intersection_i[i]+j], saddle_bif[0:intersection_i[i]+j], label='Saddle', linestyle='dashed')\n",
    "    plt.plot(values, spiral_bif, label='Stable Spiral')\n",
    "\n",
    "    plt.ylabel(r'equilibrium values of $f$')\n",
    "    plt.ylim(-4, 1)\n",
    "    if lambda_:\n",
    "        bif_val = r'$\\lambda$'\n",
    "        BIF_VALUE = 'lambda'\n",
    "        bif_val_int = 0.333800508\n",
    "        plt.xlabel(f'flow resistance {bif_val}')\n",
    "        plt.title(rf'$f$-equilibrium values as a function of {bif_val}')\n",
    "        plt.xlim(0, 0.5)\n",
    "        plt.xticks([0, 0.1, 0.2, 0.3, 0.338, 0.4, 0.5], [0.0, 0.1, 0.2, 0.3, r'$\\lambda_0$', 0.4, 0.5])\n",
    "    else:\n",
    "        bif_val = r'$R$'\n",
    "        BIF_VALUE = 'R'\n",
    "        bif_val_int = 7/3\n",
    "        plt.xlabel(f'Ratio of expansion coefficients {bif_val}')\n",
    "        plt.title(rf'$f$-equilibrium values as a function of {bif_val}')\n",
    "        plt.xlim(0, 5)\n",
    "        plt.xticks([0, 1, 2, 3, bif_val_int, 4, 5], [0, 1, 2, 3, r'$R_0$', 4, 5])\n",
    "\n",
    "\n",
    "    x_start = bif_val_int\n",
    "    y_start = stable_bif[-1]\n",
    "    x_end = bif_val_int\n",
    "    y_end = spiral_bif[-1]\n",
    "\n",
    "    arrow_props = dict(arrowstyle='->', color='k', lw=1, ls='dashed')\n",
    "    plt.annotate('', xy=(x_end, y_end+0.07), xytext=(x_start, intersection[-1]),\n",
    "             arrowprops=arrow_props, fontsize=9, color='k')\n",
    "\n",
    "    plt.legend()\n",
    "\n",
    "    folder_path = os.path.join(os.getcwd(), 'plots')\n",
    "    #folder_path = os.path.join(os.path.dirname(__file__), 'plots')\n",
    "    \n",
    "    # Ensure the folder exists, create it if it doesn't\n",
    "    if not os.path.exists(folder_path):\n",
    "        os.makedirs(folder_path)\n",
    "\n",
    "    # Define the file name (including BIF_VALUE)\n",
    "    file_name = f'bifurcation_diagram_{BIF_VALUE}.png'\n",
    "    desktop_path = os.path.join(folder_path, file_name)\n",
    "\n",
    "    if save_fig:\n",
    "        plt.savefig(desktop_path, dpi=300)\n",
    "\n",
    "    # Optionally, you can also display the saved file path\n",
    "    print(f\"Saved figure to: {desktop_path}\")\n"
   ]
  },
  {
   "cell_type": "code",
   "execution_count": 30,
   "metadata": {},
   "outputs": [
    {
     "name": "stdout",
     "output_type": "stream",
     "text": [
      "Saved figure to: /Users/karlfindhansen/Documents/GitHub/gulf-stream-modelling/plots/bifurcation_diagram_lambda.png\n"
     ]
    },
    {
     "data": {
      "image/png": "[encoded data removed]",
      "text/plain": [
       "<Figure size 432x288 with 1 Axes>"
      ]
     },
     "metadata": {
      "needs_background": "light"
     },
     "output_type": "display_data"
    }
   ],
   "source": [
    "make_bifurcation_diagram(lambda_vals, \n",
    "                         stable_bif_lambda, \n",
    "                         saddle_bif_lambda, \n",
    "                         spiral_bif_lambda, \n",
    "                         intersection_lambda_i,\n",
    "                         intersection_lambda, \n",
    "                         True)"
   ]
  },
  {
   "cell_type": "code",
   "execution_count": 31,
   "metadata": {},
   "outputs": [
    {
     "name": "stdout",
     "output_type": "stream",
     "text": [
      "Saved figure to: /Users/karlfindhansen/Documents/GitHub/gulf-stream-modelling/plots/bifurcation_diagram_R.png\n"
     ]
    },
    {
     "data": {
      "image/png": "[encoded data removed]",
      "text/plain": [
       "<Figure size 432x288 with 1 Axes>"
      ]
     },
     "metadata": {
      "needs_background": "light"
     },
     "output_type": "display_data"
    }
   ],
   "source": [
    "make_bifurcation_diagram(R_vals, \n",
    "                         stable_bif_R, \n",
    "                         saddle_bif_R, \n",
    "                         spiral_bif_R, \n",
    "                         intersection_R_i,\n",
    "                         intersection_R, \n",
    "                         False)"
   ]
  },
  {
   "cell_type": "code",
   "execution_count": null,
   "metadata": {},
   "outputs": [],
   "source": []
  },
  {
   "cell_type": "markdown",
   "metadata": {},
   "source": [
    "# Using R as a bifurcation value\n",
    "Is interisting because it tells us something about, the influence of the salinity of the surroundings basins."
   ]
  },
  {
   "cell_type": "code",
   "execution_count": null,
   "metadata": {},
   "outputs": [],
   "source": []
  },
  {
   "cell_type": "code",
   "execution_count": null,
   "metadata": {},
   "outputs": [],
   "source": [
    "stable_bif = []\n",
    "saddle_bif = []\n",
    "spiral_bif = []\n",
    "\n",
    "for i in R_vals:\n",
    "    stable_bif.append(eq_1_solver(i)[0])\n",
    "    saddle_bif.append(eq_1_solver(i)[1])\n",
    "    spiral_bif.append(eq_2_solver(i))\n"
   ]
  },
  {
   "cell_type": "code",
   "execution_count": null,
   "metadata": {},
   "outputs": [
    {
     "name": "stdout",
     "output_type": "stream",
     "text": [
      "[-1.18838206300071, -1.16320267636637, -1.13685298799913, -1.10913686098702, -1.07979569335012, -1.04847633904034, -1.01467409260775, -0.977621932906040, -0.936047005968943, -0.887524874997358, -0.826095740477676, -0.718597002190605]\n"
     ]
    }
   ],
   "source": [
    "def find_intersection_saddle_and_stable():\n",
    "    intersection = []\n",
    "    intersection_i = []\n",
    "    for i in range(len(stable_bif)):\n",
    "        if abs(saddle_bif[i]-stable_bif[i]) < 1:\n",
    "            intersection.append(stable_bif[i])\n",
    "            intersection_i.append(i)\n",
    "    return intersection,intersection_i\n",
    "\n",
    "intersection, intersection_i = find_intersection_saddle_and_stable()\n",
    "\n",
    "print(intersection)"
   ]
  },
  {
   "cell_type": "code",
   "execution_count": null,
   "metadata": {},
   "outputs": [
    {
     "data": {
      "image/png": "[encoded data removed]",
      "text/plain": [
       "<Figure size 432x288 with 1 Axes>"
      ]
     },
     "metadata": {
      "needs_background": "light"
     },
     "output_type": "display_data"
    }
   ],
   "source": [
    "def make_bifurcation_diagram():\n",
    "    #i = len(intersection_i)-1\n",
    "    #j = 1\n",
    "   # i = len(R_vals)-10\n",
    "   # j = 0\n",
    "\n",
    "    plt.plot(R_vals, stable_bif, label='Stable node')\n",
    "    plt.plot(R_vals, saddle_bif, label='Saddle', linestyle='dashed')\n",
    "    plt.plot(R_vals, spiral_bif, label='Stable Spiral')\n",
    "\n",
    "    plt.xlabel('flow resistance $R$')\n",
    "    plt.ylabel(r'equilibrium values of $f$')\n",
    "    plt.title(r'$f$-equilibrium values as a function of $R$')\n",
    "    plt.ylim(-4, 1)\n",
    "    plt.xlim(0, 5)\n",
    "    #plt.xticks([0, 1, 2, 3, 4, 5], [0, 0, 0.2, 0.3, r'$R_0$', 0.4, 0.5])\n",
    "\n",
    "    # x_start = intersection_i[i]/(10*factor)\n",
    "    # y_start = stable_bif[-1]\n",
    "    # x_end = intersection_i[i]/(10*factor)\n",
    "    # y_end = spiral_bif[-1]\n",
    "\n",
    "    # arrow_props = dict(arrowstyle='->', color='k', lw=1, ls='dashed')\n",
    "    # plt.annotate('', xy=(x_end, y_end+0.07), xytext=(x_start, intersection[-1]),\n",
    "    #          arrowprops=arrow_props, fontsize=9, color='k')\n",
    "\n",
    "    plt.legend()\n",
    "    desktop_path = f'/Users/karlfindhansen/Desktop/bifurcation_diagram_{BIF_VALUE_LAMBDA}.png'  \n",
    "    if save_fig:\n",
    "        plt.savefig(desktop_path, dpi=300)\n",
    "    return plt.show()\n",
    "\n",
    "\n",
    "make_bifurcation_diagram()\n"
   ]
  },
  {
   "cell_type": "markdown",
   "metadata": {},
   "source": [
    "# Find bifurcation value\n",
    "Did it in maple already, but this would be nicer! It just takes a very long time to run.\n",
    "\n",
    "Maybe you can try on your stationary computer?"
   ]
  },
  {
   "cell_type": "code",
   "execution_count": null,
   "metadata": {},
   "outputs": [],
   "source": [
    "\n",
    "DELTA = 1/6\n",
    "R = 2\n",
    "lambda_val, f = sp.symbols('lambda f')\n",
    "\n",
    "eq1 = sp.Eq(lambda_val * f, R * DELTA / (DELTA - f) - 1 / (1 - f))\n",
    "\n",
    "solutions = sp.solve(eq1, f)\n",
    "sol1 = solutions[0]  \n",
    "sol2 = solutions[1]  \n"
   ]
  },
  {
   "cell_type": "code",
   "execution_count": null,
   "metadata": {},
   "outputs": [],
   "source": [
    "# Solve for lambda where sol1 = sol2\n",
    "lambda_solutions = sp.solve(sp.Eq(sol1, sol2), lambda_val)"
   ]
  },
  {
   "cell_type": "code",
   "execution_count": null,
   "metadata": {},
   "outputs": [],
   "source": [
    "# Find the real part of the first lambda solution\n",
    "real_lambda = sp.re(lambda_solutions[0])\n",
    "\n",
    "# Evaluate the result\n",
    "result = sp.N(real_lambda)  # Convert to a numeric value\n",
    "\n",
    "print(result)"
   ]
  }
 ],
 "metadata": {
  "kernelspec": {
   "display_name": "base",
   "language": "python",
   "name": "python3"
  },
  "language_info": {
   "codemirror_mode": {
    "name": "ipython",
    "version": 3
   },
   "file_extension": ".py",
   "mimetype": "text/x-python",
   "name": "python",
   "nbconvert_exporter": "python",
   "pygments_lexer": "ipython3",
   "version": "3.8.3"
  }
 },
 "nbformat": 4,
 "nbformat_minor": 2
}
