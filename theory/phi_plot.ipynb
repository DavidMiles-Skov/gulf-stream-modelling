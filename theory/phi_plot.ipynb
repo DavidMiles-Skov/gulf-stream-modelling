{
 "cells": [
  {
   "cell_type": "code",
   "execution_count": 30,
   "metadata": {},
   "outputs": [],
   "source": [
    "import numpy as np\n",
    "import matplotlib.pyplot as plt\n",
    "\n",
    "\n",
    "def phi(f,R=2, delta=1/6):\n",
    "    return -1/(1+abs(f))+(R*delta)/(delta+abs(f))\n",
    "\n",
    "def lambda_f(f, lambda_):\n",
    "    return f*lambda_\n"
   ]
  },
  {
   "cell_type": "code",
   "execution_count": 31,
   "metadata": {},
   "outputs": [],
   "source": [
    "import sympy as sp\n",
    "\n",
    "def eq_points(lambda_val, R = 2, delta = 1/6):\n",
    "    f = sp.symbols('f')  \n",
    "\n",
    "    eq1= sp.Eq(lambda_val * f, R * delta / (delta - f) - 1 / (1 - f))\n",
    "\n",
    "    eq2 = sp.Eq(lambda_val * f, R * delta / (delta + f) - 1 / (1 + f))\n",
    "\n",
    "    sol1 = sp.solve(eq1, f)\n",
    "    sol2 = sp.solve(eq2, f)\n",
    "\n",
    "    sol_re = [sp.re(i) for i in sol1 if sp.re(i) < 0]\n",
    "    sol_re1 = [i for i in sol2 if i.is_real]\n",
    "    \n",
    "    return sol_re, sol_re1\n"
   ]
  },
  {
   "cell_type": "code",
   "execution_count": 32,
   "metadata": {},
   "outputs": [
    {
     "data": {
      "image/png": "[encoded data removed]",
      "text/plain": [
       "<Figure size 432x288 with 1 Axes>"
      ]
     },
     "metadata": {
      "needs_background": "light"
     },
     "output_type": "display_data"
    }
   ],
   "source": [
    "\n",
    "def phi_plot(f):\n",
    "    plt.plot(f,phi(f), color = 'black')\n",
    "\n",
    "def lambda_plot(f, lambda_):\n",
    "    plt.plot(f,lambda_f(f,lambda_), color = 'blue')\n",
    "    \n",
    "def intersection_plot(lambda_):\n",
    "    sol1, sol2 = eq_points(lambda_)\n",
    "    # if len(sol1) == 0:\n",
    "    #     return\n",
    "    if len(sol1) == 1 and (lambda_ > 0.33 and lambda_ < 0.34):\n",
    "        plt.plot(sol1[0], lambda_f(sol1[0], lambda_), 'o', color = 'red')\n",
    "    if len(sol1) == 2 and lambda_ < 0.34:\n",
    "        plt.plot(sol1[0], lambda_f(sol1[0], lambda_), 'o', color = 'red')\n",
    "        plt.plot(sol1[1], lambda_f(sol1[1], lambda_), 'o', color = 'red')\n",
    "    if len(sol2) == 1:\n",
    "        plt.plot(sol2[0], lambda_f(sol2[0], lambda_), 'o', color = 'red')\n",
    "\n",
    "lambdas = np.linspace(1/6,1/2,300)\n",
    "f = np.linspace(-2,2,1000)\n",
    "\n",
    "for lambda_ in lambdas:\n",
    "    plt.clf()\n",
    "    plt.ylabel(r'$\\phi(f,R,\\delta)$', fontsize = 10)\n",
    "    plt.xlabel(r'flow rate $f$', fontsize = 10)\n",
    "    phi_plot(f)\n",
    "    lambda_plot(f,lambda_)\n",
    "    intersection_plot(lambda_)\n",
    "    plt.ylim(-0.3,1)\n",
    "    plt.title(fr'$\\lambda = {np.round(lambda_,2)}$')\n",
    "    plt.savefig(f'phi_plots/phi_plot_{lambda_}.png', dpi = 600)\n"
   ]
  },
  {
   "cell_type": "code",
   "execution_count": 33,
   "metadata": {},
   "outputs": [
    {
     "name": "stderr",
     "output_type": "stream",
     "text": [
      "/var/folders/r2/gzlv5h7s47398gkvjzzqmmfr0000gn/T/ipykernel_20713/3742896856.py:16: DeprecationWarning: Starting with ImageIO v3 the behavior of this function will switch to that of iio.v3.imread. To keep the current behavior (and make this warning dissapear) use `import imageio.v2 as imageio` or call `imageio.v2.imread` directly.\n",
      "  image = imageio.imread(image_path)\n"
     ]
    },
    {
     "name": "stdout",
     "output_type": "stream",
     "text": [
      "Movie saved successfully at phi_plots/movie.mp4\n"
     ]
    }
   ],
   "source": [
    "import imageio\n",
    "import os\n",
    "\n",
    "# Get the list of image files in the phi_plots folder\n",
    "image_files = [file for file in os.listdir('phi_plots') if file.endswith('.png')]\n",
    "\n",
    "# Sort the image files in ascending order\n",
    "image_files.sort()\n",
    "\n",
    "# Create an empty list to store the image frames\n",
    "frames = []\n",
    "\n",
    "# Read each image file and append it to the frames list\n",
    "for image_file in image_files:\n",
    "    image_path = os.path.join('phi_plots', image_file)\n",
    "    image = imageio.imread(image_path)\n",
    "    frames.append(image)\n",
    "\n",
    "# Save the frames as a movie\n",
    "output_path = 'phi_plots/phi_movie.mp4'\n",
    "imageio.mimsave(output_path, frames, fps=23)\n",
    "\n",
    "print(f\"Movie saved successfully at {output_path}\")\n"
   ]
  }
 ],
 "metadata": {
  "kernelspec": {
   "display_name": "base",
   "language": "python",
   "name": "python3"
  },
  "language_info": {
   "codemirror_mode": {
    "name": "ipython",
    "version": 3
   },
   "file_extension": ".py",
   "mimetype": "text/x-python",
   "name": "python",
   "nbconvert_exporter": "python",
   "pygments_lexer": "ipython3",
   "version": "3.8.3"
  }
 },
 "nbformat": 4,
 "nbformat_minor": 2
}
