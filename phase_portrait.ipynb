{
 "cells": [
  {
   "cell_type": "code",
   "execution_count": 216,
   "metadata": {},
   "outputs": [],
   "source": [
    "from scipy.optimize import fsolve\n",
    "import numpy as np\n",
    "import matplotlib.pyplot as plt\n",
    "import sympy as sp\n"
   ]
  },
  {
   "cell_type": "code",
   "execution_count": 217,
   "metadata": {},
   "outputs": [
    {
     "name": "stdout",
     "output_type": "stream",
     "text": [
      "The choosen lambda value is:  1.0\n",
      "0.15950935256698456\n"
     ]
    },
    {
     "name": "stderr",
     "output_type": "stream",
     "text": [
      "/Users/karlfindhansen/opt/anaconda3/lib/python3.8/site-packages/scipy/optimize/_minpack_py.py:175: RuntimeWarning: The iteration is not making good progress, as measured by the \n",
      "  improvement from the last ten iterations.\n",
      "  warnings.warn(msg, RuntimeWarning)\n",
      "/Users/karlfindhansen/opt/anaconda3/lib/python3.8/site-packages/scipy/optimize/_minpack_py.py:175: RuntimeWarning: The iteration is not making good progress, as measured by the \n",
      "  improvement from the last five Jacobian evaluations.\n",
      "  warnings.warn(msg, RuntimeWarning)\n"
     ]
    }
   ],
   "source": [
    "# Define the equation as a Python function\n",
    "def equation(f, lambda_val):\n",
    "    return lambda_val * f + 1 / (1 + abs(f)) - (2/6) / ((1/6) + abs(f))\n",
    "\n",
    "# Find distinct equilibrium values for f\n",
    "def find_distinct_roots(lambda_val, num_initial_guesses=100, margin=0.1):\n",
    "    # Set the value of lambda\n",
    "    initial_guesses = np.linspace(-2, 2, num_initial_guesses)\n",
    "    fequilibria = []\n",
    "    roots = []\n",
    "\n",
    "    for initial_guess in initial_guesses:\n",
    "        root = fsolve(equation, x0=initial_guess, args=(lambda_val,))\n",
    "        if root not in roots:\n",
    "            roots.append(root)\n",
    "            fequilibria.append(root[0])\n",
    "\n",
    "    distinct_roots = []\n",
    "    for num in fequilibria:\n",
    "        is_distinct = True\n",
    "\n",
    "        # Check if the current number is different from all other numbers in the distinct list\n",
    "        for distinct_num in distinct_roots:\n",
    "            if abs(num - distinct_num) <= margin:\n",
    "                is_distinct = False\n",
    "                break\n",
    "\n",
    "        # If the number is distinct, add it to the distinct list\n",
    "        if is_distinct:\n",
    "            distinct_roots.append(num)\n",
    "\n",
    "    return np.sort(distinct_roots)\n",
    "\n",
    "def main(lambda_val):\n",
    "    distinct_roots = find_distinct_roots(lambda_val)\n",
    "    \n",
    "    if lambda_val < 0.333801:\n",
    "        f1, f2, f3 = distinct_roots[0], distinct_roots[1], distinct_roots[2]\n",
    "        print(f1, f2, f3)\n",
    "        return f1, f2, f3\n",
    "    else:\n",
    "        f3 = distinct_roots[1]\n",
    "        print(f3)\n",
    "        return f3\n",
    "\n",
    "# make user input to be lambda_val\n",
    "lambda_val = float(input(\"Enter lambda value: \"))\n",
    "print(\"The choosen lambda value is: \", lambda_val)\n",
    "\n",
    "if lambda_val < 0.333801:\n",
    "    f1, f2, f3 = main(lambda_val)\n",
    "else:\n",
    "    f3 = main(lambda_val)\n"
   ]
  },
  {
   "cell_type": "code",
   "execution_count": 218,
   "metadata": {},
   "outputs": [
    {
     "name": "stdout",
     "output_type": "stream",
     "text": [
      "x3 = 0.5109715516739982, y3 = 0.8624337507810056\n"
     ]
    }
   ],
   "source": [
    "def calculate_stationary_points():\n",
    "    if lambda_val < 0.333801:\n",
    "        x1, y1 = (1/6) / ((1/6) + abs(f1)), 1 / (1 + abs(f1))\n",
    "        x2, y2 = (1/6) / ((1/6) + abs(f2)), 1 / (1 + abs(f2))\n",
    "        x3, y3 = (1/6) / ((1/6) + abs(f3)), 1 / (1 + abs(f3))\n",
    "\n",
    "        print(f'x1 = {x1}, y1 = {y1}')\n",
    "        print(f'x2 = {x2}, y2 = {y2}')\n",
    "        print(f'x3 = {x3}, y3 = {y3}')\n",
    "\n",
    "        return x1, y1, x2, y2, x3, y3\n",
    "    \n",
    "    else:\n",
    "        x3, y3 = (1/6) / ((1/6) + abs(f3)), 1 / (1 + abs(f3))\n",
    "        print(f'x3 = {x3}, y3 = {y3}')\n",
    "        return x3, y3\n",
    "    \n",
    "if lambda_val < 0.333801:\n",
    "    x1, y1, x2, y2, x3, y3 = calculate_stationary_points()\n",
    "else:\n",
    "    x3, y3 = calculate_stationary_points()\n"
   ]
  },
  {
   "cell_type": "code",
   "execution_count": 219,
   "metadata": {},
   "outputs": [],
   "source": [
    "def g(x, y, delta):\n",
    "    return delta * (1 - x) - abs((1 / lambda_val) * (-y + 2 * x)) * x\n",
    "\n",
    "def h(x, y):\n",
    "    return 1 - y - abs((1 / lambda_val) * (-y + 2 * x)) * y\n",
    "\n",
    "def gneg(x, y, delta):\n",
    "    return delta * (1 - x) - (-(1 / lambda_val) * (-y + 2 * x)) * x\n",
    "\n",
    "def hneg(x, y):\n",
    "    return 1 - y - (-(1 / lambda_val) * (-y + 2 * x)) * y\n",
    "\n",
    "def gplus(x, y, delta):\n",
    "    return delta * (1 - x) - ((1 / lambda_val) * (-y + 2 * x)) * x\n",
    "\n",
    "def hplus(x, y):\n",
    "    return 1 - y - ((1 / lambda_val) * (-y + 2 * x)) * y\n"
   ]
  },
  {
   "cell_type": "markdown",
   "metadata": {},
   "source": [
    "# Calculate Jacobian for negative equilibrium point"
   ]
  },
  {
   "cell_type": "code",
   "execution_count": 220,
   "metadata": {},
   "outputs": [
    {
     "data": {
      "text/latex": [
       "$\\displaystyle \\left[\\begin{matrix}4.0 x - 1.0 y - 0.166666666666667 & - 1.0 x\\\\2.0 y & 2.0 x - 2.0 y - 1\\end{matrix}\\right]$"
      ],
      "text/plain": [
       "⎡4.0⋅x - y - 0.166666666666667       -1.0⋅x      ⎤\n",
       "⎢                                                ⎥\n",
       "⎣            2.0⋅y              2.0⋅x - 2.0⋅y - 1⎦"
      ]
     },
     "execution_count": 220,
     "metadata": {},
     "output_type": "execute_result"
    }
   ],
   "source": [
    "x, y = sp.symbols('x y')\n",
    "delta = 1/6  # Set delta value as needed\n",
    "Jneg = sp.Matrix([[sp.diff(gneg(x, y, delta), x), sp.diff(gneg(x, y, delta), y)],\n",
    "                 [sp.diff(hneg(x, y), x), sp.diff(hneg(x, y), y)]])\n",
    "sp.init_printing()\n",
    "Jneg"
   ]
  },
  {
   "cell_type": "code",
   "execution_count": 221,
   "metadata": {},
   "outputs": [
    {
     "name": "stdout",
     "output_type": "stream",
     "text": [
      "There are no equilibria with f < 0\n"
     ]
    }
   ],
   "source": [
    "if lambda_val < 0.333801:\n",
    "    J1 = Jneg.subs({x: x1, y: y1})\n",
    "    sp.init_printing()\n",
    "    display(J1)\n",
    "else:\n",
    "    print(\"There are no equilibria with f < 0\")"
   ]
  },
  {
   "cell_type": "code",
   "execution_count": 222,
   "metadata": {},
   "outputs": [
    {
     "name": "stdout",
     "output_type": "stream",
     "text": [
      "Only one equilibrium (x3, y3)\n"
     ]
    }
   ],
   "source": [
    "if lambda_val < 0.333801:\n",
    "    # Calculate eigenvalues and eigenvectors of J1\n",
    "    eigenvalues = sp.Matrix(J1).eigenvals()\n",
    "    eigenvectors = sp.Matrix(J1).eigenvects()\n",
    "    \n",
    "    sp.init_printing()\n",
    "    # Print eigenvalues\n",
    "    print(\"Eigenvalues:\")\n",
    "    for eigenvalue in eigenvalues:\n",
    "        display(eigenvalue)\n",
    "    \n",
    "    # Print eigenvectors\n",
    "    print(\"Eigenvectors:\")\n",
    "    for eigenvector in eigenvectors:\n",
    "        display(eigenvector[2])\n",
    "else:\n",
    "    print(\"Only one equilibrium (x3, y3)\")"
   ]
  },
  {
   "cell_type": "code",
   "execution_count": 223,
   "metadata": {},
   "outputs": [
    {
     "name": "stdout",
     "output_type": "stream",
     "text": [
      "There are no equilibria with f < 0\n"
     ]
    }
   ],
   "source": [
    "if lambda_val < 0.333801:\n",
    "    J2 = Jneg.subs({x: x2, y: y2})\n",
    "    sp.init_printing()\n",
    "    display(J2)\n",
    "else:\n",
    "    print(\"There are no equilibria with f < 0\")"
   ]
  },
  {
   "cell_type": "code",
   "execution_count": 224,
   "metadata": {},
   "outputs": [
    {
     "name": "stdout",
     "output_type": "stream",
     "text": [
      "Only one equilibrium (x3, y3)\n"
     ]
    }
   ],
   "source": [
    "if lambda_val < 0.333801:\n",
    "    # Calculate eigenvalues and eigenvectors of J1\n",
    "    eigenvalues = sp.Matrix(J2).eigenvals()\n",
    "    eigenvectors = sp.Matrix(J2).eigenvects()\n",
    "    \n",
    "    sp.init_printing()\n",
    "    # Print eigenvalues\n",
    "    print(\"Eigenvalues:\")\n",
    "    for eigenvalue in eigenvalues:\n",
    "        display(eigenvalue)\n",
    "    \n",
    "    # Print eigenvectors\n",
    "    print(\"Eigenvectors:\")\n",
    "    for eigenvector in eigenvectors:\n",
    "        display(eigenvector[2])\n",
    "else:\n",
    "    print(\"Only one equilibrium (x3, y3)\")"
   ]
  },
  {
   "cell_type": "markdown",
   "metadata": {},
   "source": [
    "# Calculate Jacobian for positive equilibrium point"
   ]
  },
  {
   "cell_type": "code",
   "execution_count": 225,
   "metadata": {},
   "outputs": [
    {
     "data": {
      "text/latex": [
       "$\\displaystyle \\left[\\begin{matrix}- 4.0 x + 1.0 y - 0.166666666666667 & 1.0 x\\\\- 2.0 y & - 2.0 x + 2.0 y - 1\\end{matrix}\\right]$"
      ],
      "text/plain": [
       "⎡-4.0⋅x + 1.0⋅y - 0.166666666666667        1.0⋅x       ⎤\n",
       "⎢                                                      ⎥\n",
       "⎣              -2.0⋅y                -2.0⋅x + 2.0⋅y - 1⎦"
      ]
     },
     "execution_count": 225,
     "metadata": {},
     "output_type": "execute_result"
    }
   ],
   "source": [
    "Jplus = sp.Matrix([[sp.diff(gplus(x, y, delta), x), sp.diff(gplus(x, y, delta), y)],\n",
    "                 [sp.diff(hplus(x, y), x), sp.diff(hplus(x, y), y)]])\n",
    "sp.init_printing()\n",
    "Jplus"
   ]
  },
  {
   "cell_type": "code",
   "execution_count": 226,
   "metadata": {},
   "outputs": [
    {
     "data": {
      "text/latex": [
       "$\\displaystyle \\left[\\begin{matrix}-1.34811912258165 & 0.510971551673998\\\\-1.72486750156201 & -0.297075601785985\\end{matrix}\\right]$"
      ],
      "text/plain": [
       "⎡-1.34811912258165  0.510971551673998 ⎤\n",
       "⎢                                     ⎥\n",
       "⎣-1.72486750156201  -0.297075601785985⎦"
      ]
     },
     "metadata": {},
     "output_type": "display_data"
    }
   ],
   "source": [
    "J3 = Jplus.subs({x: x3, y: y3})\n",
    "sp.init_printing()\n",
    "display(J3)"
   ]
  },
  {
   "cell_type": "code",
   "execution_count": 227,
   "metadata": {},
   "outputs": [
    {
     "name": "stdout",
     "output_type": "stream",
     "text": [
      "Eigenvalues:\n"
     ]
    },
    {
     "data": {
      "image/png": "[encoded data removed]",
      "text/latex": [
       "$\\displaystyle -0.822597362183819 - 0.777936438954722 i$"
      ],
      "text/plain": [
       "-0.822597362183819 - 0.777936438954722⋅ⅈ"
      ]
     },
     "metadata": {},
     "output_type": "display_data"
    },
    {
     "data": {
      "image/png": "[encoded data removed]",
      "text/latex": [
       "$\\displaystyle -0.822597362183819 + 0.777936438954722 i$"
      ],
      "text/plain": [
       "-0.822597362183819 + 0.777936438954722⋅ⅈ"
      ]
     },
     "metadata": {},
     "output_type": "display_data"
    },
    {
     "name": "stdout",
     "output_type": "stream",
     "text": [
      "Eigenvectors:\n"
     ]
    },
    {
     "data": {
      "text/latex": [
       "$\\displaystyle \\left[\\begin{matrix}-0.396137517723794 + 0.267603977972232 i\\\\-1.1333930727271 \\cdot 10^{-64} + 0.878329766104433 i\\end{matrix}\\right]$"
      ],
      "text/plain": [
       "⎡ -0.396137517723794 + 0.267603977972232⋅ⅈ ⎤\n",
       "⎢                                          ⎥\n",
       "⎣-1.1333930727271e-64 + 0.878329766104433⋅ⅈ⎦"
      ]
     },
     "metadata": {},
     "output_type": "display_data"
    },
    {
     "data": {
      "text/latex": [
       "$\\displaystyle \\left[\\begin{matrix}-0.372624820976947 + 0.551601185986097 i\\\\-1.2230291729346 + 3.48049668134959 \\cdot 10^{-64} i\\end{matrix}\\right]$"
      ],
      "text/plain": [
       "⎡-0.372624820976947 + 0.551601185986097⋅ⅈ ⎤\n",
       "⎢                                         ⎥\n",
       "⎣-1.2230291729346 + 3.48049668134959e-64⋅ⅈ⎦"
      ]
     },
     "metadata": {},
     "output_type": "display_data"
    }
   ],
   "source": [
    "eigenvalues = sp.Matrix(J3).eigenvals()\n",
    "eigenvectors = sp.Matrix(J3).eigenvects()\n",
    "\n",
    "sp.init_printing()\n",
    "# Print eigenvalues\n",
    "print(\"Eigenvalues:\")\n",
    "for eigenvalue in eigenvalues:\n",
    "    display(eigenvalue)\n",
    "\n",
    "# Print eigenvectors\n",
    "print(\"Eigenvectors:\")\n",
    "for eigenvector in eigenvectors:\n",
    "    raw_eigenvector = eigenvector[2][0]  # Access the raw eigenvector\n",
    "    display(raw_eigenvector)"
   ]
  },
  {
   "cell_type": "markdown",
   "metadata": {},
   "source": [
    "# Plot contour plot"
   ]
  },
  {
   "cell_type": "code",
   "execution_count": 228,
   "metadata": {},
   "outputs": [],
   "source": [
    "def plot_lambda_bigger_than_val():\n",
    "    fig, ax = plt.subplots()\n",
    "    x_range = np.linspace(0, 1, 100)\n",
    "    y_range = np.linspace(0, 1, 100)\n",
    "    X, Y = np.meshgrid(x_range, y_range)\n",
    "    Z = (1 / lambda_val) * (-Y + 2 * X)\n",
    "    \n",
    "    # Contour plot\n",
    "    contour = ax.contour(X, Y, Z, levels=[0], colors='green', linewidths=2)\n",
    "    ax.clabel(contour, inline=1, fontsize=10)\n",
    "    ax.set_xlabel('x (salinity)')\n",
    "    ax.set_ylabel('y (temperature)')\n",
    "    \n",
    "    # Add a red disk to the plot\n",
    "    ax.add_artist(plt.Circle((x3, y3), 0.01, color='red'))\n",
    "    \n",
    "    # Create a stream plot in the same plot\n",
    "    U = g(X, Y, 1/6)\n",
    "    V = h(X, Y)\n",
    "    ax.streamplot(X, Y, U, V, density=1, color='blue')\n",
    "\n",
    "    # Show the combined plot\n",
    "    plt.show()\n",
    "\n",
    "def plot_lambda_smaller_than_value():\n",
    "    fig, ax = plt.subplots()\n",
    "    x_range = np.linspace(0, 1, 100)\n",
    "    y_range = np.linspace(0, 1, 100)\n",
    "    X, Y = np.meshgrid(x_range, y_range)\n",
    "    Z = (1 / lambda_val) * (-Y + 2 * X)\n",
    "    \n",
    "    # Contour plot\n",
    "    contour = ax.contour(X, Y, Z, levels=[0], colors='green', linewidths=2)\n",
    "    ax.clabel(contour, inline=1, fontsize=10)\n",
    "    ax.set_xlabel('x (salinity)')\n",
    "    ax.set_ylabel('y (temperature)')\n",
    "    \n",
    "    # Add disks to the same plot\n",
    "    disks = plt.Circle((x1, y1), 0.01, color='red'), plt.Circle((x2, y2), 0.01, color='red'), plt.Circle((x3, y3), 0.01, color='red')\n",
    "    for disk in disks:\n",
    "        ax.add_artist(disk)\n",
    "\n",
    "    # Create a stream plot in the same plot\n",
    "    U = g(X, Y, 1/6)\n",
    "    V = h(X, Y)\n",
    "    ax.streamplot(X, Y, U, V, density=1, color='grey', linewidth=0.5)\n",
    "    ax.streamplot(X, Y, U, V, density=1, color='blue', linewidth=1)\n",
    "\n",
    "    # Show the combined plot\n",
    "    plt.show()"
   ]
  },
  {
   "cell_type": "code",
   "execution_count": 229,
   "metadata": {},
   "outputs": [
    {
     "data": {
      "image/png": "[encoded data removed]",
      "text/plain": [
       "<Figure size 432x288 with 1 Axes>"
      ]
     },
     "metadata": {
      "needs_background": "light"
     },
     "output_type": "display_data"
    }
   ],
   "source": [
    "def phase_portrait():\n",
    "    if lambda_val < 0.333801:\n",
    "        plot_lambda_smaller_than_value()\n",
    "    else:\n",
    "        plot_lambda_bigger_than_val()\n",
    "\n",
    "phase_portrait()"
   ]
  }
 ],
 "metadata": {
  "kernelspec": {
   "display_name": "base",
   "language": "python",
   "name": "python3"
  },
  "language_info": {
   "codemirror_mode": {
    "name": "ipython",
    "version": 3
   },
   "file_extension": ".py",
   "mimetype": "text/x-python",
   "name": "python",
   "nbconvert_exporter": "python",
   "pygments_lexer": "ipython3",
   "version": "3.8.3"
  }
 },
 "nbformat": 4,
 "nbformat_minor": 2
}
